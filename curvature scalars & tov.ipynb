{
 "cells": [
  {
   "cell_type": "code",
   "execution_count": 1,
   "id": "c0bfa71a",
   "metadata": {},
   "outputs": [
    {
     "name": "stdout",
     "output_type": "stream",
     "text": [
      "Metric:\n"
     ]
    },
    {
     "data": {
      "text/html": [
       "<html>\\(\\displaystyle g = -e^{\\left(2 \\, \\nu\\left(r\\right)\\right)} \\mathrm{d} t\\otimes \\mathrm{d} t + \\left( -\\frac{1}{\\frac{2 \\, m\\left(r\\right)}{r} - 1} \\right) \\mathrm{d} r\\otimes \\mathrm{d} r + r^{2} \\mathrm{d} {\\theta}\\otimes \\mathrm{d} {\\theta} + r^{2} \\sin\\left({\\theta}\\right)^{2} \\mathrm{d} {\\phi}\\otimes \\mathrm{d} {\\phi}\\)</html>"
      ],
      "text/latex": [
       "$\\displaystyle g = -e^{\\left(2 \\, \\nu\\left(r\\right)\\right)} \\mathrm{d} t\\otimes \\mathrm{d} t + \\left( -\\frac{1}{\\frac{2 \\, m\\left(r\\right)}{r} - 1} \\right) \\mathrm{d} r\\otimes \\mathrm{d} r + r^{2} \\mathrm{d} {\\theta}\\otimes \\mathrm{d} {\\theta} + r^{2} \\sin\\left({\\theta}\\right)^{2} \\mathrm{d} {\\phi}\\otimes \\mathrm{d} {\\phi}$"
      ],
      "text/plain": [
       "g = -e^(2*nu(r)) dt⊗dt - 1/(2*m(r)/r - 1) dr⊗dr + r^2 dth⊗dth + r^2*sin(th)^2 dph⊗dph"
      ]
     },
     "metadata": {},
     "output_type": "display_data"
    },
    {
     "data": {
      "text/html": [
       "<html>\\(\\displaystyle \\verb|EFEs:|\\)</html>"
      ],
      "text/latex": [
       "$\\displaystyle \\verb|EFEs:|$"
      ],
      "text/plain": [
       "'EFEs:'"
      ]
     },
     "metadata": {},
     "output_type": "display_data"
    },
    {
     "data": {
      "text/html": [
       "<html>\\(\\displaystyle \\begin{array}{lcl} G_{ \\, t \\, t }^{ \\phantom{\\, t}\\phantom{\\, t} } & = & \\frac{2 \\, e^{\\left(2 \\, \\nu\\left(r\\right)\\right)} \\frac{\\partial\\,m}{\\partial r}}{r^{2}} \\\\ G_{ \\, r \\, r }^{ \\phantom{\\, r}\\phantom{\\, r} } & = & \\frac{2 \\, {\\left({\\left(r^{2} - 2 \\, r m\\left(r\\right)\\right)} \\frac{\\partial\\,\\nu}{\\partial r} - m\\left(r\\right)\\right)}}{r^{3} - 2 \\, r^{2} m\\left(r\\right)} \\\\ G_{ \\, {\\theta} \\, {\\theta} }^{ \\phantom{\\, {\\theta}}\\phantom{\\, {\\theta}} } & = & \\frac{{\\left(r^{3} - 2 \\, r^{2} m\\left(r\\right)\\right)} \\left(\\frac{\\partial\\,\\nu}{\\partial r}\\right)^{2} - r \\frac{\\partial\\,m}{\\partial r} - {\\left(r^{2} \\frac{\\partial\\,m}{\\partial r} - r^{2} + r m\\left(r\\right)\\right)} \\frac{\\partial\\,\\nu}{\\partial r} + {\\left(r^{3} - 2 \\, r^{2} m\\left(r\\right)\\right)} \\frac{\\partial^2\\,\\nu}{\\partial r ^ 2} + m\\left(r\\right)}{r} \\\\ G_{ \\, {\\phi} \\, {\\phi} }^{ \\phantom{\\, {\\phi}}\\phantom{\\, {\\phi}} } & = & \\frac{{\\left({\\left(r^{3} - 2 \\, r^{2} m\\left(r\\right)\\right)} \\left(\\frac{\\partial\\,\\nu}{\\partial r}\\right)^{2} - r \\frac{\\partial\\,m}{\\partial r} - {\\left(r^{2} \\frac{\\partial\\,m}{\\partial r} - r^{2} + r m\\left(r\\right)\\right)} \\frac{\\partial\\,\\nu}{\\partial r} + {\\left(r^{3} - 2 \\, r^{2} m\\left(r\\right)\\right)} \\frac{\\partial^2\\,\\nu}{\\partial r ^ 2} + m\\left(r\\right)\\right)} \\sin\\left({\\theta}\\right)^{2}}{r} \\end{array}\\)</html>"
      ],
      "text/latex": [
       "$\\displaystyle \\begin{array}{lcl} G_{ \\, t \\, t }^{ \\phantom{\\, t}\\phantom{\\, t} } & = & \\frac{2 \\, e^{\\left(2 \\, \\nu\\left(r\\right)\\right)} \\frac{\\partial\\,m}{\\partial r}}{r^{2}} \\\\ G_{ \\, r \\, r }^{ \\phantom{\\, r}\\phantom{\\, r} } & = & \\frac{2 \\, {\\left({\\left(r^{2} - 2 \\, r m\\left(r\\right)\\right)} \\frac{\\partial\\,\\nu}{\\partial r} - m\\left(r\\right)\\right)}}{r^{3} - 2 \\, r^{2} m\\left(r\\right)} \\\\ G_{ \\, {\\theta} \\, {\\theta} }^{ \\phantom{\\, {\\theta}}\\phantom{\\, {\\theta}} } & = & \\frac{{\\left(r^{3} - 2 \\, r^{2} m\\left(r\\right)\\right)} \\left(\\frac{\\partial\\,\\nu}{\\partial r}\\right)^{2} - r \\frac{\\partial\\,m}{\\partial r} - {\\left(r^{2} \\frac{\\partial\\,m}{\\partial r} - r^{2} + r m\\left(r\\right)\\right)} \\frac{\\partial\\,\\nu}{\\partial r} + {\\left(r^{3} - 2 \\, r^{2} m\\left(r\\right)\\right)} \\frac{\\partial^2\\,\\nu}{\\partial r ^ 2} + m\\left(r\\right)}{r} \\\\ G_{ \\, {\\phi} \\, {\\phi} }^{ \\phantom{\\, {\\phi}}\\phantom{\\, {\\phi}} } & = & \\frac{{\\left({\\left(r^{3} - 2 \\, r^{2} m\\left(r\\right)\\right)} \\left(\\frac{\\partial\\,\\nu}{\\partial r}\\right)^{2} - r \\frac{\\partial\\,m}{\\partial r} - {\\left(r^{2} \\frac{\\partial\\,m}{\\partial r} - r^{2} + r m\\left(r\\right)\\right)} \\frac{\\partial\\,\\nu}{\\partial r} + {\\left(r^{3} - 2 \\, r^{2} m\\left(r\\right)\\right)} \\frac{\\partial^2\\,\\nu}{\\partial r ^ 2} + m\\left(r\\right)\\right)} \\sin\\left({\\theta}\\right)^{2}}{r} \\end{array}$"
      ],
      "text/plain": [
       "G_t,t = 2*e^(2*nu(r))*d(m)/dr/r^2 \n",
       "G_r,r = 2*((r^2 - 2*r*m(r))*d(nu)/dr - m(r))/(r^3 - 2*r^2*m(r)) \n",
       "G_th,th = ((r^3 - 2*r^2*m(r))*(d(nu)/dr)^2 - r*d(m)/dr - (r^2*d(m)/dr - r^2 + r*m(r))*d(nu)/dr + (r^3 - 2*r^2*m(r))*d^2(nu)/dr^2 + m(r))/r \n",
       "G_ph,ph = ((r^3 - 2*r^2*m(r))*(d(nu)/dr)^2 - r*d(m)/dr - (r^2*d(m)/dr - r^2 + r*m(r))*d(nu)/dr + (r^3 - 2*r^2*m(r))*d^2(nu)/dr^2 + m(r))*sin(th)^2/r "
      ]
     },
     "metadata": {},
     "output_type": "display_data"
    },
    {
     "data": {
      "text/html": [
       "<html>\\(\\displaystyle \\verb|EFEs|\\verb| |\\verb|with|\\verb| |\\verb|Mixed|\\verb| |\\verb|Components:|\\)</html>"
      ],
      "text/latex": [
       "$\\displaystyle \\verb|EFEs|\\verb| |\\verb|with|\\verb| |\\verb|Mixed|\\verb| |\\verb|Components:|$"
      ],
      "text/plain": [
       "'EFEs with Mixed Components:'"
      ]
     },
     "metadata": {},
     "output_type": "display_data"
    },
    {
     "data": {
      "text/html": [
       "<html>\\(\\displaystyle \\begin{array}{lcl} G_{ \\phantom{\\, t} \\, t }^{ \\, t \\phantom{\\, t} } & = & -\\frac{2 \\, \\frac{\\partial\\,m}{\\partial r}}{r^{2}} \\\\ G_{ \\phantom{\\, r} \\, r }^{ \\, r \\phantom{\\, r} } & = & \\frac{2 \\, {\\left({\\left(r^{2} - 2 \\, r m\\left(r\\right)\\right)} \\frac{\\partial\\,\\nu}{\\partial r} - m\\left(r\\right)\\right)}}{r^{3}} \\\\ G_{ \\phantom{\\, {\\theta}} \\, {\\theta} }^{ \\, {\\theta} \\phantom{\\, {\\theta}} } & = & \\frac{{\\left(r^{3} - 2 \\, r^{2} m\\left(r\\right)\\right)} \\left(\\frac{\\partial\\,\\nu}{\\partial r}\\right)^{2} - r \\frac{\\partial\\,m}{\\partial r} - {\\left(r^{2} \\frac{\\partial\\,m}{\\partial r} - r^{2} + r m\\left(r\\right)\\right)} \\frac{\\partial\\,\\nu}{\\partial r} + {\\left(r^{3} - 2 \\, r^{2} m\\left(r\\right)\\right)} \\frac{\\partial^2\\,\\nu}{\\partial r ^ 2} + m\\left(r\\right)}{r^{3}} \\\\ G_{ \\phantom{\\, {\\phi}} \\, {\\phi} }^{ \\, {\\phi} \\phantom{\\, {\\phi}} } & = & \\frac{{\\left(r^{3} - 2 \\, r^{2} m\\left(r\\right)\\right)} \\left(\\frac{\\partial\\,\\nu}{\\partial r}\\right)^{2} - r \\frac{\\partial\\,m}{\\partial r} - {\\left(r^{2} \\frac{\\partial\\,m}{\\partial r} - r^{2} + r m\\left(r\\right)\\right)} \\frac{\\partial\\,\\nu}{\\partial r} + {\\left(r^{3} - 2 \\, r^{2} m\\left(r\\right)\\right)} \\frac{\\partial^2\\,\\nu}{\\partial r ^ 2} + m\\left(r\\right)}{r^{3}} \\end{array}\\)</html>"
      ],
      "text/latex": [
       "$\\displaystyle \\begin{array}{lcl} G_{ \\phantom{\\, t} \\, t }^{ \\, t \\phantom{\\, t} } & = & -\\frac{2 \\, \\frac{\\partial\\,m}{\\partial r}}{r^{2}} \\\\ G_{ \\phantom{\\, r} \\, r }^{ \\, r \\phantom{\\, r} } & = & \\frac{2 \\, {\\left({\\left(r^{2} - 2 \\, r m\\left(r\\right)\\right)} \\frac{\\partial\\,\\nu}{\\partial r} - m\\left(r\\right)\\right)}}{r^{3}} \\\\ G_{ \\phantom{\\, {\\theta}} \\, {\\theta} }^{ \\, {\\theta} \\phantom{\\, {\\theta}} } & = & \\frac{{\\left(r^{3} - 2 \\, r^{2} m\\left(r\\right)\\right)} \\left(\\frac{\\partial\\,\\nu}{\\partial r}\\right)^{2} - r \\frac{\\partial\\,m}{\\partial r} - {\\left(r^{2} \\frac{\\partial\\,m}{\\partial r} - r^{2} + r m\\left(r\\right)\\right)} \\frac{\\partial\\,\\nu}{\\partial r} + {\\left(r^{3} - 2 \\, r^{2} m\\left(r\\right)\\right)} \\frac{\\partial^2\\,\\nu}{\\partial r ^ 2} + m\\left(r\\right)}{r^{3}} \\\\ G_{ \\phantom{\\, {\\phi}} \\, {\\phi} }^{ \\, {\\phi} \\phantom{\\, {\\phi}} } & = & \\frac{{\\left(r^{3} - 2 \\, r^{2} m\\left(r\\right)\\right)} \\left(\\frac{\\partial\\,\\nu}{\\partial r}\\right)^{2} - r \\frac{\\partial\\,m}{\\partial r} - {\\left(r^{2} \\frac{\\partial\\,m}{\\partial r} - r^{2} + r m\\left(r\\right)\\right)} \\frac{\\partial\\,\\nu}{\\partial r} + {\\left(r^{3} - 2 \\, r^{2} m\\left(r\\right)\\right)} \\frac{\\partial^2\\,\\nu}{\\partial r ^ 2} + m\\left(r\\right)}{r^{3}} \\end{array}$"
      ],
      "text/plain": [
       "G^t_t = -2*d(m)/dr/r^2 \n",
       "G^r_r = 2*((r^2 - 2*r*m(r))*d(nu)/dr - m(r))/r^3 \n",
       "G^th_th = ((r^3 - 2*r^2*m(r))*(d(nu)/dr)^2 - r*d(m)/dr - (r^2*d(m)/dr - r^2 + r*m(r))*d(nu)/dr + (r^3 - 2*r^2*m(r))*d^2(nu)/dr^2 + m(r))/r^3 \n",
       "G^ph_ph = ((r^3 - 2*r^2*m(r))*(d(nu)/dr)^2 - r*d(m)/dr - (r^2*d(m)/dr - r^2 + r*m(r))*d(nu)/dr + (r^3 - 2*r^2*m(r))*d^2(nu)/dr^2 + m(r))/r^3 "
      ]
     },
     "metadata": {},
     "output_type": "display_data"
    }
   ],
   "source": [
    "Man = Manifold(4, 'M') #Manifold\n",
    "X.<t,r,th,ph> = Man.chart(r't r:(0,+oo) th:(0,pi):\\theta ph:(0,2*pi):\\phi')\n",
    "\n",
    "rho = function('rho', latex_name='\\\\rho')\n",
    "P = function('p')\n",
    "nu = function('nu')\n",
    "m = function('m')\n",
    "\n",
    "g = Man.lorentzian_metric('g')\n",
    "g[0,0] = -exp(2*nu(r))\n",
    "g[1,1] = 1/(1-2*m(r)/r)\n",
    "g[2,2] = r^2\n",
    "g[3,3] = (r*sin(th))^2\n",
    "\n",
    "print('Metric:')\n",
    "show(g.display())\n",
    "\n",
    "\n",
    "\n",
    "Ricci_scalar = g.ricci_scalar() #Ricci Scalar.\n",
    "Ricci = g.ricci() #Ricci tensor.\n",
    "upRic = Ricci.up(g) #Index-uppered Ricci tensor.\n",
    "gg= g.up(g) #Index-uppered metric.\n",
    "\n",
    "ET = Ricci - 1/2*g.ricci_scalar() * g\n",
    "ET.set_name('G')\n",
    "ETup=ET.up(g)\n",
    "ETmix=ETup['^ij']*g['_jk']\n",
    "ETmix.set_name('G')\n",
    "\n",
    "riem = g.riemann() #Riemann tensor and its lowered-uppered index ver.\n",
    "riemup = riem.up(g)\n",
    "riemdown = riem.down(g)\n",
    "\n",
    "weyl = g.weyl() #Weyl tensor and its lowered-uppered index ver.\n",
    "weylup = weyl.up(g)\n",
    "weyldown= weyl.down(g)\n",
    "\n",
    "Weyl_scalar = weyldown['_ijkl']*weylup['^ijkl']\n",
    "Contracted_ricci = Ricci['_ij']*upRic['^ij']\n",
    "Kretschmann_scalar = riemdown['_ijkl']*riemup['^ijkl']\n",
    "\n",
    "show('EFEs:')\n",
    "show(ET.display_comp())\n",
    "\n",
    "show('EFEs with Mixed Components:')\n",
    "show(ETmix.display_comp())"
   ]
  },
  {
   "cell_type": "code",
   "execution_count": 2,
   "id": "18049cf6",
   "metadata": {},
   "outputs": [
    {
     "name": "stdout",
     "output_type": "stream",
     "text": [
      "The 4-velocity:\n"
     ]
    },
    {
     "data": {
      "text/html": [
       "<html>\\(\\displaystyle u = e^{\\left(-\\nu\\left(r\\right)\\right)} \\frac{\\partial}{\\partial t }\\)</html>"
      ],
      "text/latex": [
       "$\\displaystyle u = e^{\\left(-\\nu\\left(r\\right)\\right)} \\frac{\\partial}{\\partial t }$"
      ],
      "text/plain": [
       "u = e^(-nu(r)) ∂/∂t"
      ]
     },
     "metadata": {},
     "output_type": "display_data"
    },
    {
     "name": "stdout",
     "output_type": "stream",
     "text": [
      "Stress-Energy tensor:\n"
     ]
    },
    {
     "data": {
      "text/html": [
       "<html>\\(\\displaystyle \\begin{array}{lcl} T_{ \\, t \\, t }^{ \\phantom{\\, t}\\phantom{\\, t} } & = & e^{\\left(2 \\, \\nu\\left(r\\right)\\right)} \\rho\\left(r\\right) \\\\ T_{ \\, r \\, r }^{ \\phantom{\\, r}\\phantom{\\, r} } & = & \\frac{r p\\left(r\\right)}{r - 2 \\, m\\left(r\\right)} \\\\ T_{ \\, {\\theta} \\, {\\theta} }^{ \\phantom{\\, {\\theta}}\\phantom{\\, {\\theta}} } & = & r^{2} p\\left(r\\right) \\\\ T_{ \\, {\\phi} \\, {\\phi} }^{ \\phantom{\\, {\\phi}}\\phantom{\\, {\\phi}} } & = & r^{2} p\\left(r\\right) \\sin\\left({\\theta}\\right)^{2} \\end{array}\\)</html>"
      ],
      "text/latex": [
       "$\\displaystyle \\begin{array}{lcl} T_{ \\, t \\, t }^{ \\phantom{\\, t}\\phantom{\\, t} } & = & e^{\\left(2 \\, \\nu\\left(r\\right)\\right)} \\rho\\left(r\\right) \\\\ T_{ \\, r \\, r }^{ \\phantom{\\, r}\\phantom{\\, r} } & = & \\frac{r p\\left(r\\right)}{r - 2 \\, m\\left(r\\right)} \\\\ T_{ \\, {\\theta} \\, {\\theta} }^{ \\phantom{\\, {\\theta}}\\phantom{\\, {\\theta}} } & = & r^{2} p\\left(r\\right) \\\\ T_{ \\, {\\phi} \\, {\\phi} }^{ \\phantom{\\, {\\phi}}\\phantom{\\, {\\phi}} } & = & r^{2} p\\left(r\\right) \\sin\\left({\\theta}\\right)^{2} \\end{array}$"
      ],
      "text/plain": [
       "T_t,t = e^(2*nu(r))*rho(r) \n",
       "T_r,r = r*p(r)/(r - 2*m(r)) \n",
       "T_th,th = r^2*p(r) \n",
       "T_ph,ph = r^2*p(r)*sin(th)^2 "
      ]
     },
     "metadata": {},
     "output_type": "display_data"
    },
    {
     "name": "stdout",
     "output_type": "stream",
     "text": [
      "E=G-kT=0 equation:\n"
     ]
    },
    {
     "data": {
      "text/html": [
       "<html>\\(\\displaystyle \\begin{array}{lcl} E_{ \\, t \\, t }^{ \\phantom{\\, t}\\phantom{\\, t} } & = & -\\frac{2 \\, {\\left(4 \\, \\pi r^{2} e^{\\left(2 \\, \\nu\\left(r\\right)\\right)} \\rho\\left(r\\right) - e^{\\left(2 \\, \\nu\\left(r\\right)\\right)} \\frac{\\partial\\,m}{\\partial r}\\right)}}{r^{2}} \\\\ E_{ \\, r \\, r }^{ \\phantom{\\, r}\\phantom{\\, r} } & = & -\\frac{2 \\, {\\left(4 \\, \\pi r^{3} p\\left(r\\right) - {\\left(r^{2} - 2 \\, r m\\left(r\\right)\\right)} \\frac{\\partial\\,\\nu}{\\partial r} + m\\left(r\\right)\\right)}}{r^{3} - 2 \\, r^{2} m\\left(r\\right)} \\\\ E_{ \\, {\\theta} \\, {\\theta} }^{ \\phantom{\\, {\\theta}}\\phantom{\\, {\\theta}} } & = & -\\frac{8 \\, \\pi r^{3} p\\left(r\\right) - {\\left(r^{3} - 2 \\, r^{2} m\\left(r\\right)\\right)} \\left(\\frac{\\partial\\,\\nu}{\\partial r}\\right)^{2} + r \\frac{\\partial\\,m}{\\partial r} + {\\left(r^{2} \\frac{\\partial\\,m}{\\partial r} - r^{2} + r m\\left(r\\right)\\right)} \\frac{\\partial\\,\\nu}{\\partial r} - {\\left(r^{3} - 2 \\, r^{2} m\\left(r\\right)\\right)} \\frac{\\partial^2\\,\\nu}{\\partial r ^ 2} - m\\left(r\\right)}{r} \\\\ E_{ \\, {\\phi} \\, {\\phi} }^{ \\phantom{\\, {\\phi}}\\phantom{\\, {\\phi}} } & = & -\\frac{{\\left(8 \\, \\pi r^{3} p\\left(r\\right) - {\\left(r^{3} - 2 \\, r^{2} m\\left(r\\right)\\right)} \\left(\\frac{\\partial\\,\\nu}{\\partial r}\\right)^{2} + r \\frac{\\partial\\,m}{\\partial r} + {\\left(r^{2} \\frac{\\partial\\,m}{\\partial r} - r^{2} + r m\\left(r\\right)\\right)} \\frac{\\partial\\,\\nu}{\\partial r} - {\\left(r^{3} - 2 \\, r^{2} m\\left(r\\right)\\right)} \\frac{\\partial^2\\,\\nu}{\\partial r ^ 2} - m\\left(r\\right)\\right)} \\sin\\left({\\theta}\\right)^{2}}{r} \\end{array}\\)</html>"
      ],
      "text/latex": [
       "$\\displaystyle \\begin{array}{lcl} E_{ \\, t \\, t }^{ \\phantom{\\, t}\\phantom{\\, t} } & = & -\\frac{2 \\, {\\left(4 \\, \\pi r^{2} e^{\\left(2 \\, \\nu\\left(r\\right)\\right)} \\rho\\left(r\\right) - e^{\\left(2 \\, \\nu\\left(r\\right)\\right)} \\frac{\\partial\\,m}{\\partial r}\\right)}}{r^{2}} \\\\ E_{ \\, r \\, r }^{ \\phantom{\\, r}\\phantom{\\, r} } & = & -\\frac{2 \\, {\\left(4 \\, \\pi r^{3} p\\left(r\\right) - {\\left(r^{2} - 2 \\, r m\\left(r\\right)\\right)} \\frac{\\partial\\,\\nu}{\\partial r} + m\\left(r\\right)\\right)}}{r^{3} - 2 \\, r^{2} m\\left(r\\right)} \\\\ E_{ \\, {\\theta} \\, {\\theta} }^{ \\phantom{\\, {\\theta}}\\phantom{\\, {\\theta}} } & = & -\\frac{8 \\, \\pi r^{3} p\\left(r\\right) - {\\left(r^{3} - 2 \\, r^{2} m\\left(r\\right)\\right)} \\left(\\frac{\\partial\\,\\nu}{\\partial r}\\right)^{2} + r \\frac{\\partial\\,m}{\\partial r} + {\\left(r^{2} \\frac{\\partial\\,m}{\\partial r} - r^{2} + r m\\left(r\\right)\\right)} \\frac{\\partial\\,\\nu}{\\partial r} - {\\left(r^{3} - 2 \\, r^{2} m\\left(r\\right)\\right)} \\frac{\\partial^2\\,\\nu}{\\partial r ^ 2} - m\\left(r\\right)}{r} \\\\ E_{ \\, {\\phi} \\, {\\phi} }^{ \\phantom{\\, {\\phi}}\\phantom{\\, {\\phi}} } & = & -\\frac{{\\left(8 \\, \\pi r^{3} p\\left(r\\right) - {\\left(r^{3} - 2 \\, r^{2} m\\left(r\\right)\\right)} \\left(\\frac{\\partial\\,\\nu}{\\partial r}\\right)^{2} + r \\frac{\\partial\\,m}{\\partial r} + {\\left(r^{2} \\frac{\\partial\\,m}{\\partial r} - r^{2} + r m\\left(r\\right)\\right)} \\frac{\\partial\\,\\nu}{\\partial r} - {\\left(r^{3} - 2 \\, r^{2} m\\left(r\\right)\\right)} \\frac{\\partial^2\\,\\nu}{\\partial r ^ 2} - m\\left(r\\right)\\right)} \\sin\\left({\\theta}\\right)^{2}}{r} \\end{array}$"
      ],
      "text/plain": [
       "E_t,t = -2*(4*pi*r^2*e^(2*nu(r))*rho(r) - e^(2*nu(r))*d(m)/dr)/r^2 \n",
       "E_r,r = -2*(4*pi*r^3*p(r) - (r^2 - 2*r*m(r))*d(nu)/dr + m(r))/(r^3 - 2*r^2*m(r)) \n",
       "E_th,th = -(8*pi*r^3*p(r) - (r^3 - 2*r^2*m(r))*(d(nu)/dr)^2 + r*d(m)/dr + (r^2*d(m)/dr - r^2 + r*m(r))*d(nu)/dr - (r^3 - 2*r^2*m(r))*d^2(nu)/dr^2 - m(r))/r \n",
       "E_ph,ph = -(8*pi*r^3*p(r) - (r^3 - 2*r^2*m(r))*(d(nu)/dr)^2 + r*d(m)/dr + (r^2*d(m)/dr - r^2 + r*m(r))*d(nu)/dr - (r^3 - 2*r^2*m(r))*d^2(nu)/dr^2 - m(r))*sin(th)^2/r "
      ]
     },
     "metadata": {},
     "output_type": "display_data"
    }
   ],
   "source": [
    "#Defining the 4-velocity\n",
    "u = Man.vector_field('u')\n",
    "u[0] = exp(-nu(r))\n",
    "\n",
    "print('The 4-velocity:')\n",
    "show(u.display())\n",
    "\n",
    "u_form = u.down(g) #index lowered 4-velocity.\n",
    "\n",
    "\n",
    "#Stress-Energy Tensor\n",
    "print('Stress-Energy tensor:')\n",
    "T = (rho(r)+p(r))* (u_form * u_form) + p(r) * g\n",
    "T.set_name('T')\n",
    "show(T.display_comp())\n",
    "Tmix = g.inverse()['^ij']*T['_jk']\n",
    "\n",
    "\n",
    "#defining the E=G-kT=0 equation to solve the Einstein's equations.\n",
    "print('E=G-kT=0 equation:')\n",
    "E = ET - 8*pi*T\n",
    "E.set_name('E')\n",
    "show(E.display_comp())"
   ]
  },
  {
   "cell_type": "code",
   "execution_count": 3,
   "id": "34830d7f",
   "metadata": {},
   "outputs": [
    {
     "data": {
      "text/html": [
       "<html>\\(\\displaystyle \\frac{\\partial}{\\partial r}m\\left(r\\right) = 4 \\, \\pi r^{2} \\rho\\left(r\\right)\\)</html>"
      ],
      "text/latex": [
       "$\\displaystyle \\frac{\\partial}{\\partial r}m\\left(r\\right) = 4 \\, \\pi r^{2} \\rho\\left(r\\right)$"
      ],
      "text/plain": [
       "diff(m(r), r) == 4*pi*r^2*rho(r)"
      ]
     },
     "metadata": {},
     "output_type": "display_data"
    },
    {
     "data": {
      "text/html": [
       "<html>\\(\\displaystyle \\frac{\\partial}{\\partial r}\\nu\\left(r\\right) = \\frac{4 \\, \\pi r^{3} p\\left(r\\right) + m\\left(r\\right)}{r^{2} - 2 \\, r m\\left(r\\right)}\\)</html>"
      ],
      "text/latex": [
       "$\\displaystyle \\frac{\\partial}{\\partial r}\\nu\\left(r\\right) = \\frac{4 \\, \\pi r^{3} p\\left(r\\right) + m\\left(r\\right)}{r^{2} - 2 \\, r m\\left(r\\right)}$"
      ],
      "text/plain": [
       "diff(nu(r), r) == (4*pi*r^3*p(r) + m(r))/(r^2 - 2*r*m(r))"
      ]
     },
     "metadata": {},
     "output_type": "display_data"
    },
    {
     "data": {
      "text/html": [
       "<html>\\(\\displaystyle \\frac{\\partial^{2}}{(\\partial r)^{2}}\\nu\\left(r\\right) = \\frac{8 \\, \\pi r^{3} p\\left(r\\right) - {\\left(r^{3} - 2 \\, r^{2} m\\left(r\\right)\\right)} \\frac{\\partial}{\\partial r}\\nu\\left(r\\right)^{2} + r \\frac{\\partial}{\\partial r}m\\left(r\\right) + {\\left(r^{2} \\frac{\\partial}{\\partial r}m\\left(r\\right) - r^{2} + r m\\left(r\\right)\\right)} \\frac{\\partial}{\\partial r}\\nu\\left(r\\right) - m\\left(r\\right)}{r^{3} - 2 \\, r^{2} m\\left(r\\right)}\\)</html>"
      ],
      "text/latex": [
       "$\\displaystyle \\frac{\\partial^{2}}{(\\partial r)^{2}}\\nu\\left(r\\right) = \\frac{8 \\, \\pi r^{3} p\\left(r\\right) - {\\left(r^{3} - 2 \\, r^{2} m\\left(r\\right)\\right)} \\frac{\\partial}{\\partial r}\\nu\\left(r\\right)^{2} + r \\frac{\\partial}{\\partial r}m\\left(r\\right) + {\\left(r^{2} \\frac{\\partial}{\\partial r}m\\left(r\\right) - r^{2} + r m\\left(r\\right)\\right)} \\frac{\\partial}{\\partial r}\\nu\\left(r\\right) - m\\left(r\\right)}{r^{3} - 2 \\, r^{2} m\\left(r\\right)}$"
      ],
      "text/plain": [
       "diff(nu(r), r, r) == (8*pi*r^3*p(r) - (r^3 - 2*r^2*m(r))*diff(nu(r), r)^2 + r*diff(m(r), r) + (r^2*diff(m(r), r) - r^2 + r*m(r))*diff(nu(r), r) - m(r))/(r^3 - 2*r^2*m(r))"
      ]
     },
     "metadata": {},
     "output_type": "display_data"
    }
   ],
   "source": [
    "#solving the m', nu' ve nu''\n",
    "EE0_solv = solve(E[0,0].expr()==0, diff(m(r),r))\n",
    "EE_0 = EE0_solv[0]\n",
    "show(EE_0.full_simplify())\n",
    "\n",
    "EE1_solv = solve(E[1,1].expr()==0, diff(nu(r),r))\n",
    "EE_1 = EE1_solv[0]\n",
    "show(EE_1.full_simplify())\n",
    "\n",
    "EE2_solv = solve(E[2,2].expr()==0, diff(diff(nu(r),r),r))\n",
    "EE_2 = EE2_solv[0]\n",
    "show(EE_2.full_simplify())\n",
    "\n",
    "\n",
    "#I redefined derivative expressions to replace them in Curvature scalars.\n",
    "diffm=EE_0.rhs()\n",
    "diffnu=EE_1.rhs()\n",
    "diffdiffnu=(8*pi*r^3*p(r) - (r^3 - 2*r^2*m(r))*((4*pi*(r**3)*p(r)+m(r))/((r**2)-2*r*m(r)))^2 + r*(4*pi*(r**2)*rho(r)) + (r^2*(4*pi*(r**2)*rho(r)) - r^2 + r*m(r))*((4*pi*(r**3)*p(r)+m(r))/((r**2)-2*r*m(r))) - m(r))/(r^3 - 2*r^2*m(r))\n",
    "\n",
    "#diffdiffnu=EE_2.rhs()\n",
    "#((4*pi*(r**3)*p(r)+m(r))/((r**2)-2*r*m(r)))\n",
    "#(4*pi*(r**2)*rho(r))"
   ]
  },
  {
   "cell_type": "code",
   "execution_count": 4,
   "id": "ab961aa2",
   "metadata": {},
   "outputs": [
    {
     "name": "stdout",
     "output_type": "stream",
     "text": [
      "Ricci scalar in terms of Energy-Momentum tensor\n"
     ]
    },
    {
     "data": {
      "text/html": [
       "<html>\\(\\displaystyle -24 \\, \\pi p\\left(r\\right) + 8 \\, \\pi \\rho\\left(r\\right)\\)</html>"
      ],
      "text/latex": [
       "$\\displaystyle -24 \\, \\pi p\\left(r\\right) + 8 \\, \\pi \\rho\\left(r\\right)$"
      ],
      "text/plain": [
       "-24*pi*p(r) + 8*pi*rho(r)"
      ]
     },
     "metadata": {},
     "output_type": "display_data"
    },
    {
     "name": "stdout",
     "output_type": "stream",
     "text": [
      "Fully Contracted Ricci Tensor in terms of Energy-Momentum tensor\n"
     ]
    },
    {
     "data": {
      "text/html": [
       "<html>\\(\\displaystyle 192 \\, \\pi^{2} p\\left(r\\right)^{2} + 64 \\, \\pi^{2} \\rho\\left(r\\right)^{2}\\)</html>"
      ],
      "text/latex": [
       "$\\displaystyle 192 \\, \\pi^{2} p\\left(r\\right)^{2} + 64 \\, \\pi^{2} \\rho\\left(r\\right)^{2}$"
      ],
      "text/plain": [
       "192*pi^2*p(r)^2 + 64*pi^2*rho(r)^2"
      ]
     },
     "metadata": {},
     "output_type": "display_data"
    },
    {
     "name": "stdout",
     "output_type": "stream",
     "text": [
      "Kretschmann scalar in terms of Energy-Momentum tensor\n"
     ]
    },
    {
     "data": {
      "text/html": [
       "<html>\\(\\displaystyle 192 \\, \\pi^{2} p\\left(r\\right)^{2} + 128 \\, \\pi^{2} p\\left(r\\right) \\rho\\left(r\\right) + 192 \\, \\pi^{2} \\rho\\left(r\\right)^{2} - \\frac{128 \\, \\pi m\\left(r\\right) \\rho\\left(r\\right)}{r^{3}} + \\frac{48 \\, m\\left(r\\right)^{2}}{r^{6}}\\)</html>"
      ],
      "text/latex": [
       "$\\displaystyle 192 \\, \\pi^{2} p\\left(r\\right)^{2} + 128 \\, \\pi^{2} p\\left(r\\right) \\rho\\left(r\\right) + 192 \\, \\pi^{2} \\rho\\left(r\\right)^{2} - \\frac{128 \\, \\pi m\\left(r\\right) \\rho\\left(r\\right)}{r^{3}} + \\frac{48 \\, m\\left(r\\right)^{2}}{r^{6}}$"
      ],
      "text/plain": [
       "192*pi^2*p(r)^2 + 128*pi^2*p(r)*rho(r) + 192*pi^2*rho(r)^2 - 128*pi*m(r)*rho(r)/r^3 + 48*m(r)^2/r^6"
      ]
     },
     "metadata": {},
     "output_type": "display_data"
    },
    {
     "name": "stdout",
     "output_type": "stream",
     "text": [
      "Weyl scalar in terms of Energy-Momentum tensor\n"
     ]
    },
    {
     "data": {
      "text/html": [
       "<html>\\(\\displaystyle \\frac{256}{3} \\, \\pi^{2} \\rho\\left(r\\right)^{2} - \\frac{128 \\, \\pi m\\left(r\\right) \\rho\\left(r\\right)}{r^{3}} + \\frac{48 \\, m\\left(r\\right)^{2}}{r^{6}}\\)</html>"
      ],
      "text/latex": [
       "$\\displaystyle \\frac{256}{3} \\, \\pi^{2} \\rho\\left(r\\right)^{2} - \\frac{128 \\, \\pi m\\left(r\\right) \\rho\\left(r\\right)}{r^{3}} + \\frac{48 \\, m\\left(r\\right)^{2}}{r^{6}}$"
      ],
      "text/plain": [
       "256/3*pi^2*rho(r)^2 - 128*pi*m(r)*rho(r)/r^3 + 48*m(r)^2/r^6"
      ]
     },
     "metadata": {},
     "output_type": "display_data"
    }
   ],
   "source": [
    "#d(nu)/dr d^2(nu)/dr^2 ve d(m)/dr'yi is replaced in terms of p and rho in the curvature scalars. -This is done by hand-\n",
    "\n",
    "print('Ricci scalar in terms of Energy-Momentum tensor')\n",
    "naked_Ricci_scalar=-2*((r^2 - 2*r*m(r))*((diffnu))^2 - (r*(diffm) - 2*r + 3*m(r))*(diffnu) + (r^2 - 2*r*m(r))*(diffdiffnu) - 2*(diffm))/r^2\n",
    "show(naked_Ricci_scalar.full_simplify())\n",
    "\n",
    "print('Fully Contracted Ricci Tensor in terms of Energy-Momentum tensor')\n",
    "naked_Contracted_ricci=2*((r^6 - 4*r^5*m(r) + 4*r^4*m(r)^2)*((diffnu))^4 + 3*r^2*((diffm))^2 + 2*(r^5 - 3*r^4*m(r) + 2*r^3*m(r)^2 - (r^5 - 2*r^4*m(r))*(diffm))*((diffnu))^3 - 2*r*m(r)*(diffm) + (r^4*((diffm))^2 + 3*r^4 - 8*r^3*m(r) + 5*r^2*m(r)^2 - 2*(2*r^4 - 3*r^3*m(r))*(diffm))*((diffnu))^2 + (r^6 - 4*r^5*m(r) + 4*r^4*m(r)^2)*((diffdiffnu))^2 + 3*m(r)^2 + 2*(r^3*((diffm))^2 - r^3*(diffm) - r^2*m(r) + 3*r*m(r)^2)*(diffnu) + 2*(r^3*m(r) - 2*r^2*m(r)^2 + (r^6 - 4*r^5*m(r) + 4*r^4*m(r)^2)*((diffnu))^2 - (r^4 - 2*r^3*m(r))*(diffm) + (r^5 - 3*r^4*m(r) + 2*r^3*m(r)^2 - (r^5 - 2*r^4*m(r))*(diffm))*(diffnu))*(diffdiffnu))/r^6\n",
    "show(naked_Contracted_ricci.full_simplify())\n",
    "\n",
    "print('Kretschmann scalar in terms of Energy-Momentum tensor')\n",
    "naked_Kretschmann_scalar=4*((r^6 - 4*r^5*m(r) + 4*r^4*m(r)^2)*((diffnu))^4 + 2*r^2*((diffm))^2 + 2*(r^4*m(r) - 2*r^3*m(r)^2 - (r^5 - 2*r^4*m(r))*(diffm))*((diffnu))^3 - 4*r*m(r)*(diffm) + (r^4*((diffm))^2 - 2*r^3*m(r)*(diffm) + 2*r^4 - 8*r^3*m(r) + 9*r^2*m(r)^2)*((diffnu))^2 + (r^6 - 4*r^5*m(r) + 4*r^4*m(r)^2)*((diffdiffnu))^2 + 6*m(r)^2 + 2*((r^6 - 4*r^5*m(r) + 4*r^4*m(r)^2)*((diffnu))^2 + (r^4*m(r) - 2*r^3*m(r)^2 - (r^5 - 2*r^4*m(r))*(diffm))*(diffnu))*(diffdiffnu))/r^6\n",
    "show(naked_Kretschmann_scalar.full_simplify().expand())\n",
    "\n",
    "print('Weyl scalar in terms of Energy-Momentum tensor')\n",
    "naked_Weyl_scalar=4/3*((r^6 - 4*r^5*m(r) + 4*r^4*m(r)^2)*((diffnu))^4 + r^2*((diffm))^2 - 2*(r^5 - 5*r^4*m(r) + 6*r^3*m(r)^2 + (r^5 - 2*r^4*m(r))*(diffm))*((diffnu))^3 - 6*r*m(r)*(diffm) + (r^4*((diffm))^2 + r^4 - 12*r^3*m(r) + 21*r^2*m(r)^2 + 2*(2*r^4 - 5*r^3*m(r))*(diffm))*((diffnu))^2 + (r^6 - 4*r^5*m(r) + 4*r^4*m(r)^2)*((diffdiffnu))^2 + 9*m(r)^2 - 2*(r^3*((diffm))^2 - 3*r^2*m(r) + 9*r*m(r)^2 + (r^3 - 6*r^2*m(r))*(diffm))*(diffnu) - 2*(3*r^3*m(r) - 6*r^2*m(r)^2 - (r^6 - 4*r^5*m(r) + 4*r^4*m(r)^2)*((diffnu))^2 - (r^4 - 2*r^3*m(r))*(diffm) + (r^5 - 5*r^4*m(r) + 6*r^3*m(r)^2 + (r^5 - 2*r^4*m(r))*(diffm))*(diffnu))*(diffdiffnu))/r^6\n",
    "show(naked_Weyl_scalar.full_simplify().expand())"
   ]
  },
  {
   "cell_type": "code",
   "execution_count": 5,
   "id": "dca387c6",
   "metadata": {},
   "outputs": [
    {
     "data": {
      "text/html": [
       "<html>\\(\\displaystyle \\left( {\\left(p\\left(r\\right) + \\rho\\left(r\\right)\\right)} \\frac{\\partial\\,\\nu}{\\partial r} + \\frac{\\partial\\,p}{\\partial r} \\right) \\mathrm{d} r\\)</html>"
      ],
      "text/latex": [
       "$\\displaystyle \\left( {\\left(p\\left(r\\right) + \\rho\\left(r\\right)\\right)} \\frac{\\partial\\,\\nu}{\\partial r} + \\frac{\\partial\\,p}{\\partial r} \\right) \\mathrm{d} r$"
      ],
      "text/plain": [
       "((p(r) + rho(r))*d(nu)/dr + d(p)/dr) dr"
      ]
     },
     "metadata": {},
     "output_type": "display_data"
    },
    {
     "data": {
      "text/html": [
       "<html>\\(\\displaystyle \\frac{\\partial}{\\partial r}p\\left(r\\right) = -{\\left(p\\left(r\\right) + \\rho\\left(r\\right)\\right)} \\frac{\\partial}{\\partial r}\\nu\\left(r\\right)\\)</html>"
      ],
      "text/latex": [
       "$\\displaystyle \\frac{\\partial}{\\partial r}p\\left(r\\right) = -{\\left(p\\left(r\\right) + \\rho\\left(r\\right)\\right)} \\frac{\\partial}{\\partial r}\\nu\\left(r\\right)$"
      ],
      "text/plain": [
       "diff(p(r), r) == -(p(r) + rho(r))*diff(nu(r), r)"
      ]
     },
     "metadata": {},
     "output_type": "display_data"
    }
   ],
   "source": [
    "##TOV Equation\n",
    "\n",
    "Tmix=g.inverse()['^ij']*T['_jk']\n",
    "nabla=g.connection() #Levi-Civita connection\n",
    "\n",
    "dTmix=nabla(Tmix) #Covariance derivative form.\n",
    "divT = dTmix['^i_{ji}'] #Trace is taken to find the Divergence.\n",
    "show(divT.display())\n",
    "\n",
    "#Equated the divergence of T to zero to find the necessary equations for TOV equations.\n",
    "EEp_sol = solve(divT[1].expr()==0, diff(p(r),r))\n",
    "EEp = EEp_sol[0]\n",
    "show(EEp.full_simplify())"
   ]
  },
  {
   "cell_type": "code",
   "execution_count": 6,
   "id": "7d2e3848",
   "metadata": {
    "scrolled": true
   },
   "outputs": [
    {
     "name": "stdout",
     "output_type": "stream",
     "text": [
      "for a basic EoS\n"
     ]
    },
    {
     "data": {
      "text/html": [
       "<html>\\(\\displaystyle p \\verb|=| k \\rho\\left(r\\right)^{2}\\)</html>"
      ],
      "text/latex": [
       "$\\displaystyle p \\verb|=| k \\rho\\left(r\\right)^{2}$"
      ],
      "text/plain": [
       "p '=' k*rho(r)^2"
      ]
     },
     "metadata": {},
     "output_type": "display_data"
    },
    {
     "name": "stdout",
     "output_type": "stream",
     "text": [
      "TOV equations\n"
     ]
    },
    {
     "data": {
      "text/html": [
       "<html>\\(\\displaystyle \\frac{\\partial}{\\partial r}m\\left(r\\right) = 4 \\, \\pi r^{2} \\rho\\left(r\\right)\\)</html>"
      ],
      "text/latex": [
       "$\\displaystyle \\frac{\\partial}{\\partial r}m\\left(r\\right) = 4 \\, \\pi r^{2} \\rho\\left(r\\right)$"
      ],
      "text/plain": [
       "diff(m(r), r) == 4*pi*r^2*rho(r)"
      ]
     },
     "metadata": {},
     "output_type": "display_data"
    },
    {
     "data": {
      "text/html": [
       "<html>\\(\\displaystyle \\frac{\\partial}{\\partial r}\\nu\\left(r\\right) = \\frac{4 \\, \\pi k r^{3} \\rho\\left(r\\right)^{2} + m\\left(r\\right)}{r^{2} - 2 \\, r m\\left(r\\right)}\\)</html>"
      ],
      "text/latex": [
       "$\\displaystyle \\frac{\\partial}{\\partial r}\\nu\\left(r\\right) = \\frac{4 \\, \\pi k r^{3} \\rho\\left(r\\right)^{2} + m\\left(r\\right)}{r^{2} - 2 \\, r m\\left(r\\right)}$"
      ],
      "text/plain": [
       "diff(nu(r), r) == (4*pi*k*r^3*rho(r)^2 + m(r))/(r^2 - 2*r*m(r))"
      ]
     },
     "metadata": {},
     "output_type": "display_data"
    },
    {
     "data": {
      "text/html": [
       "<html>\\(\\displaystyle \\frac{\\partial}{\\partial r}\\rho\\left(r\\right) = -\\frac{4 \\, \\pi k^{2} r^{3} \\rho\\left(r\\right)^{3} + 4 \\, \\pi k r^{3} \\rho\\left(r\\right)^{2} + k m\\left(r\\right) \\rho\\left(r\\right) + m\\left(r\\right)}{2 \\, {\\left(k r^{2} - 2 \\, k r m\\left(r\\right)\\right)}}\\)</html>"
      ],
      "text/latex": [
       "$\\displaystyle \\frac{\\partial}{\\partial r}\\rho\\left(r\\right) = -\\frac{4 \\, \\pi k^{2} r^{3} \\rho\\left(r\\right)^{3} + 4 \\, \\pi k r^{3} \\rho\\left(r\\right)^{2} + k m\\left(r\\right) \\rho\\left(r\\right) + m\\left(r\\right)}{2 \\, {\\left(k r^{2} - 2 \\, k r m\\left(r\\right)\\right)}}$"
      ],
      "text/plain": [
       "diff(rho(r), r) == -1/2*(4*pi*k^2*r^3*rho(r)^3 + 4*pi*k*r^3*rho(r)^2 + k*m(r)*rho(r) + m(r))/(k*r^2 - 2*k*r*m(r))"
      ]
     },
     "metadata": {},
     "output_type": "display_data"
    }
   ],
   "source": [
    "#TOV equations using a simple polytropic EoS as an example.\n",
    "k=var('k')\n",
    "p_eos(r)=k*rho(r)^2\n",
    "print('for a basic EoS')\n",
    "show(p,'=',p_eos(r))\n",
    "\n",
    "\n",
    "#I substituted p_eos and nu to the TOV equations I solved.\n",
    "EE_1_rho = EE_1.substitute_function(p, p_eos)\n",
    "\n",
    "EEp_rho = EEp.substitute_function(p, p_eos)\n",
    "EEp_rho = (EEp_rho / (2*k*rho(r))).simplify_full()\n",
    "EEp_rho = EEp_rho.subs({diff(nu(r),r): EE_1_rho.rhs()}).simplify_full()\n",
    "\n",
    "\n",
    "print('TOV equations')\n",
    "#TOV equations\n",
    "for i in [EE_0, EE_1_rho, EEp_rho]:\n",
    "    show(i)"
   ]
  },
  {
   "cell_type": "code",
   "execution_count": 42,
   "id": "653235cf",
   "metadata": {},
   "outputs": [],
   "source": [
    "test2=2*(6*r^5 + (r^6 - 4*r^5*m(r) + 4*r^4*m(r)^2)*((diffnu))^4 + 6*r^4 + 3*r^2*((diffm))^2 + 2*(r^4*m(r) - 2*r^3*m(r)^2 - (r^5 - 2*r^4*m(r))*(diffm))*((diffnu))^3 + 3*(16*r^4 + 3)*m(r)^2 - (4*r^8 + 4*r^7 - r^4*((diffm))^2 - 5*r^4 + (16*r^6 - 13*r^2)*m(r)^2 - 8*(2*r^7 + r^6 - 2*r^3)*m(r) - 2*(r^4 - 3*r^3*m(r))*(diffm))*((diffnu))^2 + (r^6 - 4*r^5*m(r) + 4*r^4*m(r)^2)*((diffdiffnu))^2 - 12*(2*r^5 + 3*r^4)*m(r) - 4*(r^6 + r^5 - (2*r^5 + r)*m(r))*(diffm) + 2*(2*r^7 + 2*r^6 - r^3*((diffm))^2 + 12*(r^5 + r)*m(r)^2 - (10*r^6 + 6*r^5 + 5*r^2)*m(r) + (2*r^7 + 2*r^6 - (4*r^6 + r^2)*m(r))*(diffm))*(diffnu) - 2*(2*r^8 + 2*r^7 + 4*(2*r^6 + r^2)*m(r)^2 - (r^6 - 4*r^5*m(r) + 4*r^4*m(r)^2)*((diffnu))^2 - 2*(4*r^7 + 2*r^6 + r^3)*m(r) - (r^4 - 2*r^3*m(r))*(diffm) - (r^4*m(r) - 2*r^3*m(r)^2 - (r^5 - 2*r^4*m(r))*(diffm))*(diffnu))*(diffdiffnu))/r^6"
   ]
  },
  {
   "cell_type": "code",
   "execution_count": 47,
   "id": "39f0ea29",
   "metadata": {},
   "outputs": [
    {
     "data": {
      "text/html": [
       "<html>\\(\\displaystyle \\begin{array}{lcl} X_{ \\phantom{\\, t} \\, t }^{ \\, t \\phantom{\\, t} } & = & -\\rho\\left(r\\right) \\\\ X_{ \\phantom{\\, r} \\, r }^{ \\, r \\phantom{\\, r} } & = & p\\left(r\\right) \\\\ X_{ \\phantom{\\, {\\theta}} \\, {\\theta} }^{ \\, {\\theta} \\phantom{\\, {\\theta}} } & = & p\\left(r\\right) \\\\ X_{ \\phantom{\\, {\\phi}} \\, {\\phi} }^{ \\, {\\phi} \\phantom{\\, {\\phi}} } & = & p\\left(r\\right) \\end{array}\\)</html>"
      ],
      "text/latex": [
       "$\\displaystyle \\begin{array}{lcl} X_{ \\phantom{\\, t} \\, t }^{ \\, t \\phantom{\\, t} } & = & -\\rho\\left(r\\right) \\\\ X_{ \\phantom{\\, r} \\, r }^{ \\, r \\phantom{\\, r} } & = & p\\left(r\\right) \\\\ X_{ \\phantom{\\, {\\theta}} \\, {\\theta} }^{ \\, {\\theta} \\phantom{\\, {\\theta}} } & = & p\\left(r\\right) \\\\ X_{ \\phantom{\\, {\\phi}} \\, {\\phi} }^{ \\, {\\phi} \\phantom{\\, {\\phi}} } & = & p\\left(r\\right) \\end{array}$"
      ],
      "text/plain": [
       "X^t_t = -rho(r) \n",
       "X^r_r = p(r) \n",
       "X^th_th = p(r) \n",
       "X^ph_ph = p(r) "
      ]
     },
     "metadata": {},
     "output_type": "display_data"
    }
   ],
   "source": [
    "show(Tmix.display_comp())"
   ]
  },
  {
   "cell_type": "code",
   "execution_count": 103,
   "id": "8caab083",
   "metadata": {},
   "outputs": [],
   "source": [
    "k=var('k')\n",
    "\n",
    "a=g[1,1]\n",
    "b=a^(-1)\n",
    "test=2*Tmex[0,0]*Tmex[1,1]-2*Tmex[0,0]*Tmex[2,2]-2*Tmex[0,0]*Tmex[3,3]-2*Tmex[2,2]*Tmex[1,1]-2*Tmex[2,2]*Tmex[3,3]+3*(Tmex[0,0])^2+3*(Tmex[1,1])^2+2*(Tmex[2,2])^2+2*(Tmex[3,3])^2+8*(Tmex[0,0]+Tmex[1,1]-(1/2)*(Tmex[2,2]+Tmex[3,3]))*(1-b)*r^2+12*b^2*(1-a)^2\n",
    "test.display()\n",
    "damn=16*(12*pi^2*r^2*p(r)^2 + 12*pi^2*r^2*rho(r)^2 + 3*m(r)^2 - 8*(pi*r^3*m(r) - pi^2*r^2*p(r))*rho(r))/r^2"
   ]
  },
  {
   "cell_type": "code",
   "execution_count": 62,
   "id": "cd8e43f5",
   "metadata": {},
   "outputs": [
    {
     "data": {
      "text/plain": [
       "(t, r, th, ph) ↦ 2*((r^6 - 4*r^5*m(r) + 4*r^4*m(r)^2)*(d(nu)/dr)^4 + 3*r^2*(d(m)/dr)^2 + 2*(r^4*m(r) - 2*r^3*m(r)^2 - (r^5 - 2*r^4*m(r))*d(m)/dr)*(d(nu)/dr)^3 - 4*(2*r^5 - r)*m(r)*d(m)/dr + (r^4*(d(m)/dr)^2 + 5*r^4 + (16*r^6 + 13*r^2)*m(r)^2 - 8*(r^7 + 2*r^3)*m(r) + 2*(r^4 - 3*r^3*m(r))*d(m)/dr)*(d(nu)/dr)^2 + (r^6 - 4*r^5*m(r) + 4*r^4*m(r)^2)*(d^2(nu)/dr^2)^2 + 9*m(r)^2 - 2*(r^3*(d(m)/dr)^2 + 12*(r^5 - r)*m(r)^2 - (4*r^6 - r^2)*m(r)*d(m)/dr - (4*r^6 - 5*r^2)*m(r))*d(nu)/dr + 2*(4*(2*r^6 - r^2)*m(r)^2 + (r^6 - 4*r^5*m(r) + 4*r^4*m(r)^2)*(d(nu)/dr)^2 - 2*(2*r^7 - r^3)*m(r) + (r^4 - 2*r^3*m(r))*d(m)/dr + (r^4*m(r) - 2*r^3*m(r)^2 - (r^5 - 2*r^4*m(r))*d(m)/dr)*d(nu)/dr)*d^2(nu)/dr^2)/r^6"
      ]
     },
     "execution_count": 62,
     "metadata": {},
     "output_type": "execute_result"
    }
   ],
   "source": [
    "ett=2*ETmix[0,0]*ETmix[1,1]-2*ETmix[0,0]*ETmix[2,2]-2*ETmix[0,0]*ETmix[3,3]-2*ETmix[2,2]*ETmix[1,1]-2*ETmix[2,2]*ETmix[3,3]+3*(ETmix[0,0])^2+3*(ETmix[1,1])^2+2*(ETmix[2,2])^2+2*(ETmix[3,3])^2+8*(ETmix[0,0]+ETmix[1,1]-(1/2)*(ETmix[2,2]+ETmix[3,3]))*(1-b)*r^2+12*b^2*(1-a)^2\n",
    "ett.display()"
   ]
  },
  {
   "cell_type": "code",
   "execution_count": 104,
   "id": "4d1a53f0",
   "metadata": {
    "scrolled": true
   },
   "outputs": [
    {
     "data": {
      "text/html": [
       "<html>\\(\\displaystyle 192 \\, \\pi^{2} p\\left(r\\right)^{2} - 128 \\, \\pi r m\\left(r\\right) \\rho\\left(r\\right) + 128 \\, \\pi^{2} p\\left(r\\right) \\rho\\left(r\\right) + 192 \\, \\pi^{2} \\rho\\left(r\\right)^{2} + \\frac{48 \\, m\\left(r\\right)^{2}}{r^{2}}\\)</html>"
      ],
      "text/latex": [
       "$\\displaystyle 192 \\, \\pi^{2} p\\left(r\\right)^{2} - 128 \\, \\pi r m\\left(r\\right) \\rho\\left(r\\right) + 128 \\, \\pi^{2} p\\left(r\\right) \\rho\\left(r\\right) + 192 \\, \\pi^{2} \\rho\\left(r\\right)^{2} + \\frac{48 \\, m\\left(r\\right)^{2}}{r^{2}}$"
      ],
      "text/plain": [
       "192*pi^2*p(r)^2 - 128*pi*r*m(r)*rho(r) + 128*pi^2*p(r)*rho(r) + 192*pi^2*rho(r)^2 + 48*m(r)^2/r^2"
      ]
     },
     "metadata": {},
     "output_type": "display_data"
    },
    {
     "data": {
      "text/html": [
       "<html>\\(\\displaystyle 192 \\, \\pi^{2} p\\left(r\\right)^{2} - 128 \\, \\pi r m\\left(r\\right) \\rho\\left(r\\right) + 128 \\, \\pi^{2} p\\left(r\\right) \\rho\\left(r\\right) + 192 \\, \\pi^{2} \\rho\\left(r\\right)^{2} + \\frac{48 \\, m\\left(r\\right)^{2}}{r^{2}}\\)</html>"
      ],
      "text/latex": [
       "$\\displaystyle 192 \\, \\pi^{2} p\\left(r\\right)^{2} - 128 \\, \\pi r m\\left(r\\right) \\rho\\left(r\\right) + 128 \\, \\pi^{2} p\\left(r\\right) \\rho\\left(r\\right) + 192 \\, \\pi^{2} \\rho\\left(r\\right)^{2} + \\frac{48 \\, m\\left(r\\right)^{2}}{r^{2}}$"
      ],
      "text/plain": [
       "192*pi^2*p(r)^2 - 128*pi*r*m(r)*rho(r) + 128*pi^2*p(r)*rho(r) + 192*pi^2*rho(r)^2 + 48*m(r)^2/r^2"
      ]
     },
     "metadata": {},
     "output_type": "display_data"
    }
   ],
   "source": [
    "esd=2*((r^6 - 4*r^5*m(r) + 4*r^4*m(r)^2)*((diffnu))^4 + 3*r^2*((diffm))^2 + 2*(r^4*m(r) - 2*r^3*m(r)^2 - (r^5 - 2*r^4*m(r))*(diffm))*((diffnu))^3 - 4*(2*r^5 - r)*m(r)*(diffm) + (r^4*((diffm))^2 + 5*r^4 + (16*r^6 + 13*r^2)*m(r)^2 - 8*(r^7 + 2*r^3)*m(r) + 2*(r^4 - 3*r^3*m(r))*(diffm))*((diffnu))^2 + (r^6 - 4*r^5*m(r) + 4*r^4*m(r)^2)*((diffdiffnu))^2 + 9*m(r)^2 - 2*(r^3*((diffm))^2 + 12*(r^5 - r)*m(r)^2 - (4*r^6 - r^2)*m(r)*(diffm) - (4*r^6 - 5*r^2)*m(r))*(diffnu) + 2*(4*(2*r^6 - r^2)*m(r)^2 + (r^6 - 4*r^5*m(r) + 4*r^4*m(r)^2)*((diffnu))^2 - 2*(2*r^7 - r^3)*m(r) + (r^4 - 2*r^3*m(r))*(diffm) + (r^4*m(r) - 2*r^3*m(r)^2 - (r^5 - 2*r^4*m(r))*(diffm))*(diffnu))*(diffdiffnu))/r^6\n",
    "show(esd.full_simplify().expand())\n",
    "show(damn.full_simplify().expand())"
   ]
  },
  {
   "cell_type": "code",
   "execution_count": null,
   "id": "6dbf7435",
   "metadata": {},
   "outputs": [],
   "source": []
  }
 ],
 "metadata": {
  "kernelspec": {
   "display_name": "SageMath 9.7",
   "language": "sage",
   "name": "sagemath-9.7"
  },
  "language_info": {
   "codemirror_mode": {
    "name": "ipython",
    "version": 3
   },
   "file_extension": ".py",
   "mimetype": "text/x-python",
   "name": "python",
   "nbconvert_exporter": "python",
   "pygments_lexer": "ipython3",
   "version": "3.10.5"
  }
 },
 "nbformat": 4,
 "nbformat_minor": 5
}
